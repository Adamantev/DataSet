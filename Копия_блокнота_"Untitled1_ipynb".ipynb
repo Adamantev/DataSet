{
  "nbformat": 4,
  "nbformat_minor": 0,
  "metadata": {
    "colab": {
      "name": "Копия блокнота \"Untitled1.ipynb\"",
      "provenance": [],
      "collapsed_sections": [],
      "include_colab_link": true
    },
    "kernelspec": {
      "name": "python3",
      "display_name": "Python 3"
    },
    "language_info": {
      "name": "python"
    },
    "accelerator": "GPU"
  },
  "cells": [
    {
      "cell_type": "markdown",
      "metadata": {
        "id": "view-in-github",
        "colab_type": "text"
      },
      "source": [
        "<a href=\"https://colab.research.google.com/github/Adamantev/DataSet/blob/main/%D0%9A%D0%BE%D0%BF%D0%B8%D1%8F_%D0%B1%D0%BB%D0%BE%D0%BA%D0%BD%D0%BE%D1%82%D0%B0_%22Untitled1_ipynb%22.ipynb\" target=\"_parent\"><img src=\"https://colab.research.google.com/assets/colab-badge.svg\" alt=\"Open In Colab\"/></a>"
      ]
    },
    {
      "cell_type": "code",
      "metadata": {
        "id": "cNYpirSwujiQ"
      },
      "source": [
        "import os\n",
        "import numpy as np\n",
        "import tensorflow as tf\n",
        "from tensorflow.keras.models import Sequential\n",
        "from tensorflow.keras.layers import Conv2D, MaxPooling2D, Dense, Flatten, Dropout\n",
        "from tensorflow.keras import utils\n",
        "from tensorflow.keras.preprocessing import image\n",
        "from tensorflow.keras.preprocessing import image_dataset_from_directory\n",
        "import matplotlib.pyplot as plt\n",
        "from google.colab import files\n",
        "%matplotlib inline"
      ],
      "execution_count": null,
      "outputs": []
    },
    {
      "cell_type": "code",
      "metadata": {
        "colab": {
          "base_uri": "https://localhost:8080/"
        },
        "id": "pXHxy722u_11",
        "outputId": "a28d6247-01e3-48ba-9398-855d36420cc8"
      },
      "source": [
        "!git clone  https://github.com/Adamantev/DataSet.git\n"
      ],
      "execution_count": null,
      "outputs": [
        {
          "output_type": "stream",
          "name": "stdout",
          "text": [
            "fatal: destination path 'DataSet' already exists and is not an empty directory.\n"
          ]
        }
      ]
    },
    {
      "cell_type": "code",
      "metadata": {
        "id": "EEqjfQm3_1iT"
      },
      "source": [
        "batch_size=32\n",
        "image_size=(224, 224)"
      ],
      "execution_count": null,
      "outputs": []
    },
    {
      "cell_type": "code",
      "metadata": {
        "colab": {
          "base_uri": "https://localhost:8080/"
        },
        "id": "Y6d3gwM--VpX",
        "outputId": "5e63b41b-91e7-49f4-ec38-7b5627a1f730"
      },
      "source": [
        "train_dataset = image_dataset_from_directory('/content/DataSet/Training',\n",
        "                                             subset='training',\n",
        "                                             seed=42,\n",
        "                                             validation_split=0.1,\n",
        "                                             batch_size=batch_size,\n",
        "                                             image_size=image_size)"
      ],
      "execution_count": null,
      "outputs": [
        {
          "output_type": "stream",
          "name": "stdout",
          "text": [
            "Found 133 files belonging to 2 classes.\n",
            "Using 120 files for training.\n"
          ]
        }
      ]
    },
    {
      "cell_type": "code",
      "metadata": {
        "colab": {
          "base_uri": "https://localhost:8080/"
        },
        "id": "_IvoCLJLAgOX",
        "outputId": "041ddaa9-ecea-46d1-a3c7-5e8df3be0e64"
      },
      "source": [
        "validation_dataset = image_dataset_from_directory('/content/DataSet/Training',\n",
        "                                             subset='validation',\n",
        "                                             seed=42,\n",
        "                                             validation_split=0.1,\n",
        "                                             batch_size=batch_size,\n",
        "                                             image_size=image_size)"
      ],
      "execution_count": null,
      "outputs": [
        {
          "output_type": "stream",
          "name": "stdout",
          "text": [
            "Found 133 files belonging to 2 classes.\n",
            "Using 13 files for validation.\n"
          ]
        }
      ]
    },
    {
      "cell_type": "code",
      "metadata": {
        "colab": {
          "base_uri": "https://localhost:8080/"
        },
        "id": "GTT1CcL7AvFZ",
        "outputId": "a4b49002-81ce-40c7-9a9e-988d6397bb64"
      },
      "source": [
        "class_names = train_dataset.class_names\n",
        "class_names"
      ],
      "execution_count": null,
      "outputs": [
        {
          "output_type": "execute_result",
          "data": {
            "text/plain": [
              "['Bad', 'Norm']"
            ]
          },
          "metadata": {},
          "execution_count": 36
        }
      ]
    },
    {
      "cell_type": "code",
      "metadata": {
        "colab": {
          "base_uri": "https://localhost:8080/"
        },
        "id": "H8rBJfonA2F9",
        "outputId": "a3775c7e-f031-4787-eb98-4edfabd88cfc"
      },
      "source": [
        "test_dataset = image_dataset_from_directory('/content/DataSet/Test',\n",
        "                                             batch_size=batch_size,\n",
        "                                             image_size=image_size)"
      ],
      "execution_count": null,
      "outputs": [
        {
          "output_type": "stream",
          "name": "stdout",
          "text": [
            "Found 10 files belonging to 2 classes.\n"
          ]
        }
      ]
    },
    {
      "cell_type": "code",
      "metadata": {
        "id": "Wo9c40FxA9zG"
      },
      "source": [
        "AUTOTUNE = tf.data.experimental.AUTOTUNE\n",
        "\n",
        "train_dataset = train_dataset.prefetch(buffer_size=AUTOTUNE)\n",
        "validation_dataset = validation_dataset.prefetch(buffer_size=AUTOTUNE)\n",
        "test_dataset = test_dataset.prefetch(buffer_size=AUTOTUNE)"
      ],
      "execution_count": null,
      "outputs": []
    },
    {
      "cell_type": "code",
      "metadata": {
        "id": "ukc6faQABCdJ"
      },
      "source": [
        "# Создаем последовательную модель\n",
        "model = Sequential()\n",
        "# Сверточный слой\n",
        "model.add(Conv2D(16, (3, 3), padding='same', \n",
        "                 input_shape=(224, 224, 3), activation='relu'))\n",
        "# Слой подвыборки\n",
        "model.add(MaxPooling2D(pool_size=(2, 2)))\n",
        "# Сверточный слой\n",
        "model.add(Conv2D(32, (3, 3), activation='relu', padding='same'))\n",
        "# Слой подвыборки\n",
        "model.add(MaxPooling2D(pool_size=(2, 2)))\n",
        "# Сверточный слой\n",
        "model.add(Conv2D(64, (3, 3), activation='relu', padding='same'))\n",
        "# Слой подвыборки\n",
        "model.add(MaxPooling2D(pool_size=(2, 2)))\n",
        "# Сверточный слой\n",
        "model.add(Conv2D(128, (3, 3), activation='relu', padding='same'))\n",
        "# Слой подвыборки\n",
        "model.add(MaxPooling2D(pool_size=(2, 2)))\n",
        "# Полносвязная часть нейронной сети для классификации\n",
        "model.add(Flatten())\n",
        "model.add(Dense(1024, activation='relu'))\n",
        "model.add(Dropout(0.2))\n",
        "model.add(Dense(256, activation='relu'))\n",
        "model.add(Dropout(0.2))\n",
        "# Выходной слой, 2 нейрон по количеству классов\n",
        "model.add(Dense(2, activation='softmax'))"
      ],
      "execution_count": null,
      "outputs": []
    },
    {
      "cell_type": "code",
      "metadata": {
        "id": "0ztze2uqBpt-"
      },
      "source": [
        "model.compile(loss='sparse_categorical_crossentropy',\n",
        "              optimizer=\"adam\",\n",
        "              metrics=['accuracy'])"
      ],
      "execution_count": null,
      "outputs": []
    },
    {
      "cell_type": "code",
      "metadata": {
        "colab": {
          "base_uri": "https://localhost:8080/"
        },
        "id": "1gQ7h6AeNWhE",
        "outputId": "26b3ca20-0e5f-4a06-8793-32f92ff118eb"
      },
      "source": [
        "history = model.fit(train_dataset,\n",
        "validation_data=validation_dataset,\n",
        "epochs=20,\n",
        "verbose=1,\n",
        "callbacks = [tf.keras.callbacks.EarlyStopping(\n",
        "monitor='val_accuracy', patience=2, verbose=1),\n",
        "tf.keras.callbacks.ModelCheckpoint(\n",
        "'model.h5', monitor='val_loss',\n",
        "verbose=1, save_best_only=True)])"
      ],
      "execution_count": null,
      "outputs": [
        {
          "output_type": "stream",
          "name": "stdout",
          "text": [
            "Epoch 1/20\n",
            "4/4 [==============================] - ETA: 0s - loss: 2.4723e-05 - accuracy: 1.0000\n",
            "Epoch 00001: val_loss improved from inf to 0.00013, saving model to model.h5\n",
            "4/4 [==============================] - 2s 447ms/step - loss: 2.4723e-05 - accuracy: 1.0000 - val_loss: 1.2754e-04 - val_accuracy: 1.0000\n",
            "Epoch 2/20\n",
            "4/4 [==============================] - ETA: 0s - loss: 2.5746e-05 - accuracy: 1.0000\n",
            "Epoch 00002: val_loss did not improve from 0.00013\n",
            "4/4 [==============================] - 1s 132ms/step - loss: 2.5746e-05 - accuracy: 1.0000 - val_loss: 1.3749e-04 - val_accuracy: 1.0000\n",
            "Epoch 3/20\n",
            "4/4 [==============================] - ETA: 0s - loss: 2.2054e-05 - accuracy: 1.0000\n",
            "Epoch 00003: val_loss did not improve from 0.00013\n",
            "4/4 [==============================] - 1s 133ms/step - loss: 2.2054e-05 - accuracy: 1.0000 - val_loss: 1.4164e-04 - val_accuracy: 1.0000\n",
            "Epoch 00003: early stopping\n"
          ]
        }
      ]
    },
    {
      "cell_type": "code",
      "metadata": {
        "colab": {
          "base_uri": "https://localhost:8080/"
        },
        "id": "p9_NulyXTRgn",
        "outputId": "095c5e8b-87db-4e02-bc6e-2693cc95755d"
      },
      "source": [
        "model.load_weights('model.h5')\n",
        "model.evaluate(test_dataset)"
      ],
      "execution_count": null,
      "outputs": [
        {
          "output_type": "stream",
          "name": "stdout",
          "text": [
            "1/1 [==============================] - 0s 109ms/step - loss: 7.0044 - accuracy: 0.7000\n"
          ]
        },
        {
          "output_type": "execute_result",
          "data": {
            "text/plain": [
              "[7.004427909851074, 0.699999988079071]"
            ]
          },
          "metadata": {},
          "execution_count": 51
        }
      ]
    },
    {
      "cell_type": "code",
      "metadata": {
        "colab": {
          "base_uri": "https://localhost:8080/"
        },
        "id": "VN7Hk45PRkye",
        "outputId": "a566f230-7af6-4837-f9e0-66708655fc59"
      },
      "source": [
        "print(\"Доля верных ответов на тестовых данных, в процентах:\", round(scores[1] * 100, 4))\n"
      ],
      "execution_count": null,
      "outputs": [
        {
          "output_type": "stream",
          "name": "stdout",
          "text": [
            "Доля верных ответов на тестовых данных, в процентах: 70.0\n"
          ]
        }
      ]
    }
  ]
}